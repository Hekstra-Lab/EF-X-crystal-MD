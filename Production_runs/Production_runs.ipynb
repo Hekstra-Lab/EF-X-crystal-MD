{
 "cells": [
  {
   "cell_type": "markdown",
   "id": "23c7fa93",
   "metadata": {},
   "source": [
    "# Introduction\n",
    "\n",
    "Once we finished preparing our crystal system, we can finally start the production runs. We want to clarify our goals here. The goal is to use MD simulation with a sufficiently good protein forcefield to sample protein configurations near the experimentally observed structure. Then by the ergodicity hypothesis, we can take snapshots over the trajectory to represent the ensemble of unit cell structure from the actual crystal for which we collect the diffraction data. To be clear, the structure obtained from a diffraction experiment is a time average over the duration of X-ray illumination and also a spatial average over all unit cells in the crystal. Here, because we can use the cheap computational power available to us over more expensive experimental setups, we are hoping that the time averaged structure from a sufficiently long MD simulation of the crystal is comparable to the experimentally determined structure. \n",
    "\n",
    "We note a caveat that we are just simulating a 1x1x1 unit cell, so with the periodic boundary condition, we introduce artificial periodicity in the crystal system represented by our simulation. This may lead to subtle artefacts like relative shifts of average positions of individual proteins in the unit cell system and also slight distortions of average protein structures that cannot be easily eliminated by superposition (alignment). And my experience is that these effects appear early won't go away unless we simulate for very long time, i.e., we got stuck in some metastable crystal conformation. So the strategy here is to run many replicates under the same simulation settings. Besides, we also note that systematic errors in the forcefield may cause native conformations to be less stable than it actually is, which can lead to shifts in the average position of the molecules relative to the unit cell and to the crystal structure that cannot be corrected by long simulations or averaging across replicates.\n",
    "\n",
    "This notebook primarily explains details about the production run and how our implementation allows the post-processing steps on MD trajectories to be run in parallel with the production run step, thus saving time and efforts from monitoring the tasks and alternate between the scripts manually."
   ]
  },
  {
   "cell_type": "markdown",
   "id": "e675287e-c939-44bc-b31b-a93e8f5068c4",
   "metadata": {},
   "source": [
    "# Step 1. Performing squeeze run replicates\n",
    "\n",
    "Empirically, we found that using a single post-squeeze crystal system for production runs does not yield good enough statistics from the electron density map calculations later. This is a convergence issue and is likely due to the artificial PBC discussed above. We noted that simulating longer trajectories (several hundred ns) does not help much, but we can approach convergence much faster using squeeze run replicates. \n",
    "\n",
    "This means we will start from the same `neutralized.pdb` structure from the previous step, make copies of this system, and for each system independently and randomly add waters and squeeze until its volume stabilizes. Although the volumes would vary slightly between replicates, this method should allow the crystal systems to relax into various local minimum conformations as the restraints are tapered off during the squeeze step and thus helps with sampling."
   ]
  },
  {
   "cell_type": "markdown",
   "id": "4407ac76-00c5-403d-806e-dc154e717d33",
   "metadata": {},
   "source": [
    "Here's the simple shell script to make a folder for holding each simulation replicate:"
   ]
  },
  {
   "cell_type": "code",
   "execution_count": 1,
   "id": "925c0ee2-85f6-45ce-afbd-e68425db2e12",
   "metadata": {},
   "outputs": [
    {
     "name": "stdout",
     "output_type": "stream",
     "text": [
      "mkdir $1 \n",
      "cd $1\n",
      "ln -s ../../CRO_parametrization/cro.xml .\n",
      "ln -s ../../Crystal_system_construction/neutralized.pdb .\n",
      "ln -s ../../Crystal_system_construction/squeeze_run.py .\n",
      "ln -s ../../Crystal_system_construction/squeeze_run.sh\n",
      "sbatch squeeze_run.sh\n"
     ]
    }
   ],
   "source": [
    "with open('./make_replicate.sh', 'r') as f:\n",
    "    print(f.read())"
   ]
  },
  {
   "cell_type": "markdown",
   "id": "0279648f-7463-4485-8564-db05775de18e",
   "metadata": {},
   "source": [
    "Then we can execute the script with the first argument ranging from 0 to 4 to make 5 replicates. For the squeeze step, each simulation should take no more than 3 hours. The trajectory files should be about 2.5 GiB."
   ]
  },
  {
   "cell_type": "markdown",
   "id": "94eaf45f-3745-401c-a463-5af082cff49c",
   "metadata": {},
   "source": [
    "# Step 2. Parallel production runs & post-processing"
   ]
  },
  {
   "cell_type": "markdown",
   "id": "84863da2-8668-4a45-8b62-c226bae2890b",
   "metadata": {},
   "source": [
    "## 2.1. Production run\n",
    "We have collected diffraction data for eGFP crystal pumped by a terahertz (THz) waveform from laser. This pulse beam induces a strong and transient electric field in our protein crystal of interest. To simulate experimental conditions where the single-cycle THz pulse has a nontrivial waveform (See THz draft manuscript), we assumed that the pulse can be approximated by three phases: 1ps constant field in +ve x-direction (crystallographic α-axis), 1ps in the -ve x-direction, and 8ps with no field. In the Stark effect study we have used 300kV/cm field, but here we explore using 1-10MV/cm fields which give stronger vibrational responses and provide interesting predictions that could be tested by more intense laser sources in the future. To apply the electric field in our MD simulation, we attach a custom force to every atom proportional to both its partial charge and the field strength. This application of uniform field appears justified as the shortest 1ps +/-ve field duration translates to 0.3mm, of the same length scale as the longest dimension of the mounted crystal. \n",
    "\n",
    "Empirically we've verified that the relaxation time is shorter than 8ps, so we can continuously apply pulses in MD simulations to obtain the trajectories for analysis. We will still record the trajectory at 0.1 picosecond interval, but since within each phase of a pulse the system configurations will be highly correlated, during the post-processing step we only keep one sample per phase. \n",
    "\n",
    "The following code (courtesy of Jack's initial code snippet) demonstrates how to perform a simulation consisting of 5,000 pulses (50ns) using the parameters described above: "
   ]
  },
  {
   "cell_type": "code",
   "execution_count": 2,
   "id": "80cd86f1-f200-45c3-9cb2-688659d2193b",
   "metadata": {},
   "outputs": [
    {
     "name": "stdout",
     "output_type": "stream",
     "text": [
      "# import stuff\n",
      "from openmm.app import PDBFile, ForceField\n",
      "from openff.toolkit.topology import Molecule\n",
      "from openmmforcefields.generators import GAFFTemplateGenerator\n",
      "from simtk.unit import *\n",
      "import mdtraj\n",
      "import mdtools\n",
      "import pickle\n",
      "import argparse\n",
      "import os\n",
      "\n",
      "def getFieldStrength(e):\n",
      "    \"\"\"\n",
      "    Convert from given unit of electric field strength to a value\n",
      "    in OpenMM's standard unit\n",
      "    \"\"\"\n",
      "    def convert(v):\n",
      "        return (v*AVOGADRO_CONSTANT_NA).value_in_unit(kilojoule_per_mole / elementary_charge / nanometer)\n",
      "\n",
      "    if isinstance(e, list):\n",
      "        return [convert(e_c) for e_c in e]\n",
      "    else:\n",
      "        return convert(e)\n",
      "\n",
      "    \n",
      "parser = argparse.ArgumentParser()\n",
      "parser.add_argument(\"-E\", \"--E\", type=str, help=\"Field strength of the THz pulse (MV/cm)\", default=10e8)\n",
      "parser.add_argument(\"-t0\", \"--t0\", type=int, help=\"Initial duration of NVT equilibration (ns)\", default=10)\n",
      "parser.add_argument(\"-t1\", \"--t1\", type=int, help=\"Number of pulse cycles for the production run\")\n",
      "parser.add_argument(\"-o\", \"--output\", type=str, help=\"Prefix for the output trajectory and state files\")\n",
      "parser.add_argument(\"-r\", \"--replicate\", type=int, help=\"Index number of the current replicate\")\n",
      "args = parser.parse_args()\n",
      "\n",
      "def get_file_path(file):\n",
      "    root = f'/n/holyscratch01/hekstra_lab/ziyuan/EF-X-crystal-MD/Production_runs/{args.replicate}'\n",
      "    for (root, dirs, files) in os.walk(root):\n",
      "        if file in files:\n",
      "            return os.path.join(root, file)\n",
      "        \n",
      "# initialize forcefield\n",
      "# need to have openmmforcefields installed first\n",
      "forcefield = ForceField('amber/ff14SB.xml',\n",
      "                        'amber/tip3p_standard.xml',\n",
      "                        'amber/tip3p_HFE_multivalent.xml',\n",
      "                        get_file_path('cro.xml'))\n",
      "acetate = Molecule.from_smiles('CC(=O)[O-]')\n",
      "gaff = GAFFTemplateGenerator(molecules=acetate)\n",
      "forcefield.registerTemplateGenerator(gaff.generator)\n",
      "\n",
      "efx = getFieldStrength(args.E * volts/meters)\n",
      "print(\"Field strength is\", efx)\n",
      "\n",
      "crystal = PDBFile(get_file_path(\"squeezed.pdb\"))\n",
      "mdsystem = mdtools.LatticeMDSystem(crystal.topology,\n",
      "                                   crystal.positions,\n",
      "                                   forcefield, \"P 21 21 21\")\n",
      "print(\"Started simulation.\", flush=True)\n",
      "mdsystem.buildSimulation(ensemble=\"NVT\", posre=True,\n",
      "                         saveTrajectory=False, saveStateData=False,\n",
      "                         posre_sel=\"not water and not (element Na or element Ca) and not element H\",\n",
      "                         dt=0.002*picoseconds)\n",
      "mdsystem.equilibrate(args.t0*nanoseconds, posre=True)\n",
      "print(\"Finished NVT equilibration.\", flush=True)\n",
      "mdsystem.buildSimulation(ensemble=\"NVT\",  filePrefix=args.output,\n",
      "                         saveTrajectory=True, saveStateData=True,\n",
      "                         trajInterval=50, stateDataInterval=50,\n",
      "                         dt=0.002*picoseconds, efx=True) # record every 0.1ps\n",
      "#mdsystem.simulate(10*nanoseconds) # a pulse sequence lasts 10ns\n",
      "for i in range(args.t1):\n",
      "    # Up\n",
      "    mdsystem.simulation.context.setParameter('Ex', efx)\n",
      "    mdsystem.simulate(1*picoseconds) # 1ps\n",
      "\n",
      "    # Down\n",
      "    mdsystem.simulation.context.setParameter('Ex', -1*efx)\n",
      "    mdsystem.simulate(1*picoseconds) # 1ps\n",
      "\n",
      "    # Off\n",
      "    mdsystem.simulation.context.setParameter('Ex', 0.0)\n",
      "    mdsystem.simulate(8*picoseconds) # 8ps\n",
      "print(\"Finished terahertz pulse production run\", flush=True)\n",
      "\n",
      "\n"
     ]
    }
   ],
   "source": [
    "with open('./terahertz_pulse_run.py', 'r') as f:\n",
    "    print(f.read())"
   ]
  },
  {
   "cell_type": "markdown",
   "id": "1ea4e151-b79a-4de1-bb19-a13977c35816",
   "metadata": {},
   "source": [
    "## 2.1 Post-processing and parallel processing"
   ]
  },
  {
   "cell_type": "markdown",
   "id": "6913a7da-1df1-4fac-b832-1084bf80b138",
   "metadata": {},
   "source": [
    "Given the raw trajectories, we need many steps of post-processing to arrive at the computed electron density map. First we remove solvent and shift the protein chains by unit cell dimensions if their center of mass drifted across the periodic boundary. Next, we align the structures by performing chain-wise alignments (each chain is an asymmetric unit in the crystal), equivalent to putting proteins on symmetry-related positions and thus eliminates some of the lattice distortion that we are not interested in. Then we split the trajectory into positive, negative, and zero field phases and subsample over cycles of field oscillation. We will do this for each of the four chains in our 1x1x1 EGFP crystal system. Finally, we compute the structure factors from all these snapshots using Phenix and average along the time axis, giving us the average structure factor for each chain and for each phase. \n",
    "\n",
    "The Python script for performing these steps in parallel to the production run step is shown below. We now proceed to explain the usefulness of parallel processing here."
   ]
  },
  {
   "cell_type": "code",
   "execution_count": 3,
   "id": "6f08dfbe-5c2a-47a7-a78f-ae0b009c4c5f",
   "metadata": {},
   "outputs": [
    {
     "name": "stdout",
     "output_type": "stream",
     "text": [
      "from simtk.unit import *\n",
      "from tqdm import tqdm\n",
      "import mdtraj\n",
      "import mdtools\n",
      "from mdtools.utils import *\n",
      "import argparse\n",
      "import subprocess\n",
      "import os\n",
      "import multiprocessing as mp\n",
      "from itertools import product\n",
      "\n",
      "fifo_name = 'fifo_pipe'\n",
      "cpu_count = mp.cpu_count()\n",
      "print(f'Running on {cpu_count} cpus')\n",
      "\n",
      "# parameters\n",
      "parser = argparse.ArgumentParser()\n",
      "parser.add_argument(\"-E\", \"--E\", type=str, help=\"Field strength of the THz pulse (MV/cm)\", default=10e8)\n",
      "parser.add_argument(\"-t0\", \"--t0\", type=int, help=\"Initial duration of NVT equilibration (ns)\", default=10)\n",
      "parser.add_argument(\"-t1\", \"--t1\", type=int, help=\"Number of pulse cycles for the production run\")\n",
      "parser.add_argument(\"-t2\", \"--n_pulses\", type=int, help=\"Number of pulses per cycle\", default=100)\n",
      "parser.add_argument(\"-i\", \"--input\", type=str, help=\"Input file for the crystal system\", default=\"squeezed.pdb\")\n",
      "parser.add_argument(\"-o\", \"--output\", type=str, help=\"Prefix for the output trajectory and state files\")\n",
      "parser.add_argument(\"-n\", \"--n_chains\", type=int, help=\"Number of protein chains in the system\", default=4)\n",
      "parser.add_argument(\"-e\", \"--epoch_offset\", type=int, help=\"The epoch to start from\", default=0)\n",
      "parser.add_argument(\"-r\", \"--replicate\", type=int, help=\"Index number of the current replicate\")\n",
      "args = parser.parse_args()\n",
      "\n",
      "def get_file_path(file):\n",
      "\troot = f'/n/holyscratch01/hekstra_lab/ziyuan/EF-X-crystal-MD/Production_runs/{args.replicate}'\n",
      "\tfor (root, dirs, files) in os.walk(root):\n",
      "\t\tif file in files:\n",
      "\t\t\treturn os.path.join(root, file)\n",
      "\n",
      "def aux(epoch, phase, k):\n",
      "    fname = args.output+f'_epoch_{epoch}_chainwise_{phase}_subtraj_{k}'\n",
      "    save_snapshots_from_traj(mdtraj.load(f'{fname}.h5'), output_name=fname, frame_offset=0, d_frame=1) # should give 100 frames\n",
      "    batch_annotate_spacegroup(fname, args.n_pulses, \"P 21 21 21\")\n",
      "    batch_fmodel(fname, max_frame=args.n_pulses, resolution=1.5,\n",
      "                 phenix_command='source /n/hekstra_lab/people/ziyuan/egfp/phenix_env.sh; phenix.fmodel')\n",
      "    average_structure_factors(fname, max_frame=args.n_pulses)\n",
      "\n",
      "asu_ref = mdtraj.load(get_file_path('asu_ref.h5'))\n",
      "# unitcell_ref = mdtraj.load(get_file_path('unitcell_ref.h5'))\n",
      "atom_selection = np.load(get_file_path('atoms_for_alignment.npy'))\n",
      "print(\"ASU reference retrieved from\", get_file_path('asu_ref.h5'))\n",
      "print(\"Atom selection retrieved from\", get_file_path('atoms_for_alignment.npy'))\n",
      "print(\"Loaded auxiliary data files.\")\n",
      "\n",
      "while True:\n",
      "    with open(fifo_name, 'r') as f:\n",
      "        epoch = int(f.readline())\n",
      "    # remove solvent, unwrap, align\n",
      "    traj = mdtraj.load(f'{args.output}.h5')\n",
      "    traj.remove_solvent()\n",
      "    unwrap_time_axis(traj)\n",
      "    def aux_(tupl):\n",
      "        offset, phase = tupl\n",
      "        fname=args.output+f'_epoch_{epoch}_chainwise_{phase}'\n",
      "        align_and_split_by_chain(traj[offset::100], fname,\n",
      "                                unitcell_ref=None, asu_ref=asu_ref,\n",
      "                                sg=19, chainwise_alignment=True,\n",
      "                                atom_selection=atom_selection)\n",
      "\n",
      "    with mp.Pool(processes=cpu_count) as pool:\n",
      "        pool.map(aux_, [(9, 'pos'), (19, 'neg'), (99, 'zero')])\n",
      "\n",
      "    print(\"Aligned and split into subtrajs\")\n",
      "   \n",
      "    with open(fifo_name, 'w') as f:\n",
      "        f.write(\"pass\\n\")\n",
      "    # convert to snapshots, calculate structural factors, and average\n",
      "    def aux_(tupl):\n",
      "        phase, k = tupl\n",
      "        aux(epoch, phase, k)\n",
      "\n",
      "    with mp.Pool(processes=cpu_count) as pool:\n",
      "        pool.map(aux_, product(['pos', 'neg', 'zero'], np.arange(args.n_chains)))\n",
      "    print(\"Computed average reflection for pos, neg, and zero parts\")\n",
      "\n",
      "    # cleanup\n",
      "    subprocess.run('mv *avg* ./data', shell=True)\n",
      "    subprocess.run('rm *subtraj*', shell=True)\n",
      "    # subprocess.run(f'rm {args.output}.h5', shell=True) --> we write on it over and over again!\n",
      "    print(\"Cleaned up intermediate files\")\n",
      "\n",
      "print(\"Finished terahertz pulse production run\", flush=True)\n",
      "\n",
      "\n",
      "\n"
     ]
    }
   ],
   "source": [
    "with open('./thz_continuous_postproc.py', 'r') as f:\n",
    "    print(f.read())"
   ]
  },
  {
   "cell_type": "markdown",
   "id": "f9d1837c-4946-48c5-90e7-dc14f1898bfb",
   "metadata": {},
   "source": [
    "We note that the post-processing step depends on the data from the production run step. Hence, the idea is simple - once we have some trajectory from the production run, we can immediately post-process it separately from the production run that continues to produce more trajectory data. We can thus run these two steps in parallel using two separate scripts. However, in reality the two steps can occur at different rates, so we need to coordinate the two processes, i.e., the post-processing will start once the production run reaches a milestone (say 5,000 cycles), and then the production run will pause at the next milestone to wait for the post-processing finishes with the previous data. We use the simplest implementation of a blocking fifo file object that acts as a pipe between the two Python processes. The post-processing script is shown above. And the production run script is rewritten accordingly:"
   ]
  },
  {
   "cell_type": "code",
   "execution_count": 4,
   "id": "875232b0-e53a-41f9-a3d4-4edcb36662d9",
   "metadata": {},
   "outputs": [
    {
     "name": "stdout",
     "output_type": "stream",
     "text": [
      "from openmm.app import PDBFile, ForceField\n",
      "from openff.toolkit.topology import Molecule\n",
      "from openmmforcefields.generators import GAFFTemplateGenerator\n",
      "from simtk.unit import *\n",
      "from tqdm import tqdm\n",
      "import mdtraj\n",
      "from mdtraj.reporters import HDF5Reporter\n",
      "import mdtools\n",
      "from mdtools.utils import *\n",
      "import pickle\n",
      "import argparse\n",
      "import subprocess\n",
      "import os\n",
      "\n",
      "#\n",
      "fifo_name = 'fifo_pipe'\n",
      "\n",
      "# parameters\n",
      "parser = argparse.ArgumentParser()\n",
      "parser.add_argument(\"-E\", \"--E\", type=str, help=\"Field strength of the THz pulse (MV/cm)\", default=10e8)\n",
      "parser.add_argument(\"-t0\", \"--t0\", type=int, help=\"Initial duration of NVT equilibration (ns)\", default=10)\n",
      "parser.add_argument(\"-t1\", \"--t1\", type=int, help=\"Number of pulse cycles for the production run\")\n",
      "parser.add_argument(\"-t2\", \"--n_pulses\", type=int, help=\"Number of pulses per cycle\", default=100)\n",
      "parser.add_argument(\"-i\", \"--input\", type=str, help=\"Input file for the crystal system\", default=\"squeezed.pdb\")\n",
      "parser.add_argument(\"-o\", \"--output\", type=str, help=\"Prefix for the output trajectory and state files\")\n",
      "parser.add_argument(\"-n\", \"--n_chains\", type=int, help=\"Number of protein chains in the system\", default=4)\n",
      "parser.add_argument(\"-e\", \"--epoch_offset\", type=int, help=\"The epoch to start from\", default=0)\n",
      "parser.add_argument(\"-r\", \"--replicate\", type=int, help=\"Index number of the current replicate\")\n",
      "args = parser.parse_args()\n",
      "\n",
      "def get_file_path(file):\n",
      "    root = f'/n/holyscratch01/hekstra_lab/ziyuan/EF-X-crystal-MD/Production_runs/{args.replicate}'\n",
      "    for (root, dirs, files) in os.walk(root):\n",
      "        if file in files:\n",
      "            return os.path.join(root, file)\n",
      "\n",
      "# initialize forcefield\n",
      "# need to have openmmforcefields installed first\n",
      "forcefield = ForceField('amber/ff14SB.xml',\n",
      "                        'amber/tip3p_standard.xml',\n",
      "                        'amber/tip3p_HFE_multivalent.xml',\n",
      "                        get_file_path('cro.xml'))\n",
      "acetate = Molecule.from_smiles('CC(=O)[O-]')\n",
      "gaff = GAFFTemplateGenerator(molecules=acetate)\n",
      "forcefield.registerTemplateGenerator(gaff.generator)\n",
      "\n",
      "efx = getFieldStrength(args.E * volts/meters)\n",
      "print(\"Field strength is\", efx)\n",
      "\n",
      "crystal = PDBFile(get_file_path(args.input))\n",
      "print(\"Crystal structure retrieved from\", get_file_path(args.input))\n",
      "mdsystem = mdtools.LatticeMDSystem(crystal.topology,\n",
      "                                   crystal.positions,\n",
      "                                   forcefield, \"P 21 21 21\")\n",
      "print(\"Started simulation.\", flush=True)\n",
      "mdsystem.buildSimulation(ensemble=\"NVT\", posre=True,\n",
      "                         saveTrajectory=False, saveStateData=False,\n",
      "                         posre_sel=\"not water and not (element Na or element Ca) and not element H\",\n",
      "                         dt=0.002*picoseconds)\n",
      "mdsystem.equilibrate(args.t0*nanoseconds, posre=True)\n",
      "print(\"Finished NVT equilibration.\", flush=True)\n",
      "mdsystem.buildSimulation(ensemble=\"NVT\",  filePrefix=args.output,\n",
      "                         saveTrajectory=True, saveStateData=False,\n",
      "                         trajInterval=50, stateDataInterval=50,\n",
      "                         dt=0.002*picoseconds, efx=True) # record every 0.1ps\n",
      "\n",
      "mdsystem.simulation.reporters[0].close()\n",
      "\n",
      "for epoch in tqdm(range(args.epoch_offset, args.t1)):\n",
      "    mdsystem.simulation.reporters[0] = HDF5Reporter(f\"{args.output}.h5\", 50)\n",
      "    for j in tqdm(range(args.n_pulses)):\n",
      "        # Up\n",
      "        mdsystem.simulation.context.setParameter('Ex', efx)\n",
      "        mdsystem.simulate(1*picoseconds) # 1ps\n",
      "\n",
      "        # Down\n",
      "        mdsystem.simulation.context.setParameter('Ex', -1*efx)\n",
      "        mdsystem.simulate(1*picoseconds) # 1ps\n",
      "\n",
      "        # Off\n",
      "        mdsystem.simulation.context.setParameter('Ex', 0.0)\n",
      "        mdsystem.simulate(8*picoseconds) # 8ps\n",
      "\n",
      "    # post-process this segment\n",
      "    mdsystem.simulation.reporters[0].close()\n",
      "\n",
      "    #\n",
      "    with open(fifo_name, 'w') as f:\n",
      "        f.write(f'{epoch}\\n')\n",
      "    with open(fifo_name, 'r') as f:\n",
      "        assert(f.readline().strip()==\"pass\")\n",
      "\n",
      "print(\"Finished terahertz pulse production run\", flush=True)\n",
      "\n",
      "\n",
      "\n"
     ]
    }
   ],
   "source": [
    "with open('./thz_continuous_simulation.py', 'r') as f:\n",
    "    print(f.read())"
   ]
  },
  {
   "cell_type": "markdown",
   "id": "ad2a3fa4-282c-45d6-bab1-c58751872a94",
   "metadata": {},
   "source": [
    "All that remains is to fire up these two scripts with proper arguments for each of the five simulation replicates. "
   ]
  },
  {
   "cell_type": "markdown",
   "id": "c970ac43-510c-4caf-9833-40f228cc72f2",
   "metadata": {},
   "source": [
    "# Step 3. Putting everything together"
   ]
  },
  {
   "cell_type": "markdown",
   "id": "005b0a9f-161e-4d59-b876-354df017e45c",
   "metadata": {},
   "source": [
    "The following shell script creates two processes inside one slurm job. The two processes will share 1 GPU and 32 CPU cores, using upto 128 GiB memory (mostly for post-processing) and run for upto 1 day to simulate and process 100ns of trajectory (empirically, I've achieved upto 180 ns/day with the current setup but this varies with the specifics of the nodes used):"
   ]
  },
  {
   "cell_type": "code",
   "execution_count": 5,
   "id": "34e396ab-fbf6-4f9b-bde1-d9e9327bf65e",
   "metadata": {},
   "outputs": [
    {
     "name": "stdout",
     "output_type": "stream",
     "text": [
      "#!/bin/bash\n",
      "#SBATCH --gres=gpu:1\n",
      "#SBATCH -t 1-00:00          # Runtime in D-HH:MM, minimum of 10 minutes\n",
      "#SBATCH -p gpu\n",
      "#SBATCH -c 32\n",
      "#SBATCH --mem=128G           # Memory pool for all cores (see also --mem-per-cpu)\n",
      "#SBATCH -o thz_cont_gpu_%A_%a.out\n",
      "#SBATCH -e thz_cont_gpu_%A_%a.err\n",
      "\n",
      "source /n/home11/ziz531/.bashrc\n",
      "source  $LOGIN/.bash_addons\n",
      "conda activate openmm\n",
      "OPENMM_DEFAULT_PLATFORM=CUDA\n",
      "python /n/holyscratch01/hekstra_lab/ziyuan/EF-X-crystal-MD/Production_runs/thz_continuous_simulation.py -n 4 -o EF_10MV_cm -t0 0 -t1 200 -t2 100 -r $1&\n",
      "python /n/holyscratch01/hekstra_lab/ziyuan/EF-X-crystal-MD/Production_runs/thz_continuous_postproc.py -n 4 -o EF_10MV_cm -t0 0 -t1 200 -t2 100 -r $1\n",
      "\n",
      "\n"
     ]
    }
   ],
   "source": [
    "with open('./thz_continuous.sh', 'r') as f:\n",
    "    print(f.read())"
   ]
  },
  {
   "cell_type": "markdown",
   "id": "3f79f2a1-f102-43cf-ac09-c9eac2b1a587",
   "metadata": {},
   "source": [
    "For each replicate we will first create the fifo pipe and then call the above script for its corresponding folder:"
   ]
  },
  {
   "cell_type": "code",
   "execution_count": 6,
   "id": "aa868853-6524-4046-96ab-05c869f97bad",
   "metadata": {},
   "outputs": [
    {
     "name": "stdout",
     "output_type": "stream",
     "text": [
      "cd $1\n",
      "mkfifo fifo_pipe\n",
      "mkdir data\n",
      "ln -s ../asu_ref.h5 .\n",
      "ln -s ../atoms_for_alignment.npy .\n",
      "sbatch ../thz_continuous.sh $1\n",
      "\n"
     ]
    }
   ],
   "source": [
    "with open('./replicate_production_run.sh', 'r') as f:\n",
    "    print(f.read())"
   ]
  },
  {
   "cell_type": "markdown",
   "id": "8150ef1f-88db-4e32-9f22-30cee28f8b49",
   "metadata": {},
   "source": [
    "Before running the script, we need to prepare two auxiliary files for performing chainwise alignment. The first file is `asu_ref.h5` for the structure of the protein asymmetric unit (ASU). For simplicity we will just use the post-neutralization structure and strip all waters. And the one-line code for this is shown below. (Note: you must run it before calling `replicate_production_run.sh`, which will create link to this file from the replicates folders) The second file `atoms_for_alignment.npy` encodes the index of all Ca atoms that are relatively fixed throughout the simulation. Please refer to the analysis notebook for how to obtain it. Or you can use the existing file in the current folder if you do not want to jump ahead."
   ]
  },
  {
   "cell_type": "code",
   "execution_count": 1,
   "id": "63a4cf3c-9e83-4378-b0c7-e06e2e07dcf9",
   "metadata": {},
   "outputs": [
    {
     "name": "stderr",
     "output_type": "stream",
     "text": [
      "Warning: importing 'simtk.openmm' is deprecated.  Import 'openmm' instead.\n"
     ]
    }
   ],
   "source": [
    "import mdtraj \n",
    "\n",
    "mdtraj.load('../Crystal_system_construction/neutralized.pdb')[0].remove_solvent().save('asu_ref.h5')"
   ]
  },
  {
   "cell_type": "code",
   "execution_count": null,
   "id": "9182e7d9-cb9b-4149-9944-36e006864b5a",
   "metadata": {},
   "outputs": [],
   "source": []
  }
 ],
 "metadata": {
  "kernelspec": {
   "display_name": "Python [conda env:miniconda3-openmm]",
   "language": "python",
   "name": "conda-env-miniconda3-openmm-py"
  },
  "language_info": {
   "codemirror_mode": {
    "name": "ipython",
    "version": 3
   },
   "file_extension": ".py",
   "mimetype": "text/x-python",
   "name": "python",
   "nbconvert_exporter": "python",
   "pygments_lexer": "ipython3",
   "version": "3.7.12"
  }
 },
 "nbformat": 4,
 "nbformat_minor": 5
}
