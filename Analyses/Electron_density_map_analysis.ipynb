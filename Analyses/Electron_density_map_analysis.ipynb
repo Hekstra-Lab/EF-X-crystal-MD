{
 "cells": [
  {
   "cell_type": "markdown",
   "id": "21cf4ff6-1892-4c67-a634-263e921e474c",
   "metadata": {},
   "source": [
    "# Introduction"
   ]
  },
  {
   "cell_type": "markdown",
   "id": "a24df7b7-2642-4d39-b323-7c1df1205f88",
   "metadata": {},
   "source": [
    "The ultimate goal of the project is to show that we can efficiently and accurately compute the electron density maps for our protein of interest under the oscillating EF from MD simulation that could be directly compared to the map obtained from our novel diffraction setup. Hence, finally, in this notebook we will assess convergence of our computed maps using four approaches:\n",
    "\n",
    "1. Internal difference map (symmetry related pairs of chains),\n",
    "\n",
    "2. Ordinary difference map (+ve, -ve phases of EF),\n",
    "\n",
    "3. Structure factors (reciprocal space),\n",
    "\n",
    "4. Structure from refinement (direct space).\n",
    "\n",
    "It should be assumed that whenever we can compute a quantity using some subtrajectory, we will compute averages of such quantity over increasingly longer subtrajectory from the production runs to check if our estimate converges to some observed/expected value. We now proceed to explain in detail each of these approaches."
   ]
  },
  {
   "cell_type": "markdown",
   "id": "999246e8-79ba-4b73-b6e3-2307c0e0a5a9",
   "metadata": {},
   "source": [
    "# 1. Internal difference map"
   ]
  },
  {
   "cell_type": "markdown",
   "id": "25838d46-ac23-4d89-a0ec-d16986dbcd17",
   "metadata": {},
   "source": [
    "# 2. Ordinary difference map"
   ]
  },
  {
   "cell_type": "markdown",
   "id": "67d0239c-d491-4e5e-bf9d-47f47b8ca94c",
   "metadata": {},
   "source": [
    "# 3. Structure factors (reciprocal space)"
   ]
  },
  {
   "cell_type": "markdown",
   "id": "5c50d77e-bcd0-4b60-b085-80431ea0f7f9",
   "metadata": {},
   "source": [
    "# 4. Structure from refinement (direct space)"
   ]
  }
 ],
 "metadata": {
  "kernelspec": {
   "display_name": "Python [conda env:miniconda3-openmm]",
   "language": "python",
   "name": "conda-env-miniconda3-openmm-py"
  },
  "language_info": {
   "codemirror_mode": {
    "name": "ipython",
    "version": 3
   },
   "file_extension": ".py",
   "mimetype": "text/x-python",
   "name": "python",
   "nbconvert_exporter": "python",
   "pygments_lexer": "ipython3",
   "version": "3.7.12"
  }
 },
 "nbformat": 4,
 "nbformat_minor": 5
}
